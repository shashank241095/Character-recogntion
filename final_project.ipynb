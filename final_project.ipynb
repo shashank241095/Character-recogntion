{
 "cells": [
  {
   "cell_type": "code",
   "execution_count": 1,
   "metadata": {},
   "outputs": [],
   "source": [
    "import numpy as np\n",
    "import matplotlib.pyplot as plt \n",
    "import tensorflow as tf\n",
    "from sklearn.metrics import confusion_matrix\n",
    "from skimage.util.montage import montage2d"
   ]
  },
  {
   "cell_type": "code",
   "execution_count": 2,
   "metadata": {},
   "outputs": [
    {
     "name": "stdout",
     "output_type": "stream",
     "text": [
      "curses is not supported on this machine (please install/reinstall curses for an optimal experience)\n"
     ]
    }
   ],
   "source": [
    "import tflearn\n"
   ]
  },
  {
   "cell_type": "code",
   "execution_count": 3,
   "metadata": {},
   "outputs": [],
   "source": [
    "from PIL import Image"
   ]
  },
  {
   "cell_type": "code",
   "execution_count": 4,
   "metadata": {},
   "outputs": [
    {
     "name": "stdout",
     "output_type": "stream",
     "text": [
      "Extracting data/MNIST/train-images-idx3-ubyte.gz\n",
      "Extracting data/MNIST/train-labels-idx1-ubyte.gz\n",
      "Extracting data/MNIST/t10k-images-idx3-ubyte.gz\n",
      "Extracting data/MNIST/t10k-labels-idx1-ubyte.gz\n"
     ]
    }
   ],
   "source": [
    "\n",
    "#importing data\n",
    "from tensorflow.examples.tutorials.mnist import input_data\n",
    "#one hot encoding returns an array of zeros and a single one. One corresponds to the class\n",
    "data = input_data.read_data_sets(\"data/MNIST/\", one_hot=True)"
   ]
  },
  {
   "cell_type": "code",
   "execution_count": 5,
   "metadata": {},
   "outputs": [
    {
     "ename": "SyntaxError",
     "evalue": "invalid syntax (<ipython-input-5-abdd2c0ab8cc>, line 1)",
     "output_type": "error",
     "traceback": [
      "\u001b[1;36m  File \u001b[1;32m\"<ipython-input-5-abdd2c0ab8cc>\"\u001b[1;36m, line \u001b[1;32m1\u001b[0m\n\u001b[1;33m    print \"Shape of images in training dataset {}\".format(data.train.images.shape)\u001b[0m\n\u001b[1;37m                                                 ^\u001b[0m\n\u001b[1;31mSyntaxError\u001b[0m\u001b[1;31m:\u001b[0m invalid syntax\n"
     ]
    }
   ],
   "source": [
    "print \"Shape of images in training dataset {}\".format(data.train.images.shape)\n",
    "print \"Shape of classes in training dataset {}\".format(data.train.labels.shape)\n",
    "print \"Shape of images in testing dataset {}\".format(data.test.images.shape)\n",
    "pint \"Shape of classes in testing dataset {}\".format(data.test.labels.shape)\n",
    "print \"Shape of images in validation dataset {}\".format(data.validation.images.shape)\n",
    "print \"Shape of classes in validation dataset {}\".format(data.validation.labels.shape)"
   ]
  },
  {
   "cell_type": "code",
   "execution_count": 6,
   "metadata": {},
   "outputs": [
    {
     "name": "stdout",
     "output_type": "stream",
     "text": [
      "Shape of images in training dataset (55000, 784)\n",
      "Shape of classes in training dataset (55000, 10)\n",
      "Shape of images in testing dataset (10000, 784)\n",
      "Shape of classes in testing dataset (10000, 10)\n",
      "Shape of images in validation dataset (5000, 784)\n",
      "Shape of classes in validation dataset (5000, 10)\n"
     ]
    }
   ],
   "source": [
    "print (\"Shape of images in training dataset {}\".format(data.train.images.shape))\n",
    "print (\"Shape of classes in training dataset {}\".format(data.train.labels.shape))\n",
    "print (\"Shape of images in testing dataset {}\".format(data.test.images.shape))\n",
    "print (\"Shape of classes in testing dataset {}\".format(data.test.labels.shape))\n",
    "print (\"Shape of images in validation dataset {}\".format(data.validation.images.shape))\n",
    "print (\"Shape of classes in validation dataset {}\".format(data.validation.labels.shape))"
   ]
  },
  {
   "cell_type": "code",
   "execution_count": 31,
   "metadata": {},
   "outputs": [
    {
     "data": {
      "image/png": "[encoded data removed]",
      "text/plain": [
       "<matplotlib.figure.Figure at 0x2286a7b0198>"
      ]
     },
     "metadata": {},
     "output_type": "display_data"
    }
   ],
   "source": [
    "sample=data.train.images[51].reshape(28,28) \n",
    "plt.imshow(sample ,cmap='gray')\n",
    "plt.title('training')\n",
    "plt.axis('off')\n",
    "plt.show()\n",
    "    "
   ]
  },
  {
   "cell_type": "code",
   "execution_count": 22,
   "metadata": {},
   "outputs": [
    {
     "data": {
      "image/png": "[encoded data removed]",
      "text/plain": [
       "<matplotlib.figure.Figure at 0x2286a9e8ac8>"
      ]
     },
     "metadata": {},
     "output_type": "display_data"
    }
   ],
   "source": [
    "images = data.test.images[0:1]\n",
    "plt.imshow(images ,cmap='gray')\n",
    "plt.title('training')\n",
    "plt.axis('off')\n",
    "plt.show()"
   ]
  },
  {
   "cell_type": "code",
   "execution_count": 12,
   "metadata": {},
   "outputs": [
    {
     "name": "stdout",
     "output_type": "stream",
     "text": [
      "[[ 0.  0.  0. ...,  0.  0.  0.]\n",
      " [ 0.  0.  0. ...,  0.  0.  0.]\n",
      " [ 0.  0.  0. ...,  0.  0.  0.]\n",
      " ..., \n",
      " [ 0.  0.  0. ...,  0.  0.  0.]\n",
      " [ 0.  0.  0. ...,  0.  0.  0.]\n",
      " [ 0.  0.  0. ...,  0.  0.  0.]]\n"
     ]
    }
   ],
   "source": [
    "print(images)"
   ]
  },
  {
   "cell_type": "code",
   "execution_count": 13,
   "metadata": {},
   "outputs": [
    {
     "ename": "AttributeError",
     "evalue": "'DataSet' object has no attribute 'cls'",
     "output_type": "error",
     "traceback": [
      "\u001b[1;31m---------------------------------------------------------------------------\u001b[0m",
      "\u001b[1;31mAttributeError\u001b[0m                            Traceback (most recent call last)",
      "\u001b[1;32m<ipython-input-13-bbd9659e74da>\u001b[0m in \u001b[0;36m<module>\u001b[1;34m()\u001b[0m\n\u001b[1;32m----> 1\u001b[1;33m \u001b[0mcls_true\u001b[0m \u001b[1;33m=\u001b[0m \u001b[0mdata\u001b[0m\u001b[1;33m.\u001b[0m\u001b[0mtest\u001b[0m\u001b[1;33m.\u001b[0m\u001b[0mcls\u001b[0m\u001b[1;33m[\u001b[0m\u001b[1;36m0\u001b[0m\u001b[1;33m:\u001b[0m\u001b[1;36m9\u001b[0m\u001b[1;33m]\u001b[0m\u001b[1;33m\u001b[0m\u001b[0m\n\u001b[0m",
      "\u001b[1;31mAttributeError\u001b[0m: 'DataSet' object has no attribute 'cls'"
     ]
    }
   ],
   "source": [
    "cls_true = data.test.cls[0:9]"
   ]
  },
  {
   "cell_type": "code",
   "execution_count": 14,
   "metadata": {},
   "outputs": [
    {
     "ename": "NameError",
     "evalue": "name 'plot_images' is not defined",
     "output_type": "error",
     "traceback": [
      "\u001b[1;31m---------------------------------------------------------------------------\u001b[0m",
      "\u001b[1;31mNameError\u001b[0m                                 Traceback (most recent call last)",
      "\u001b[1;32m<ipython-input-14-387b0dd123cd>\u001b[0m in \u001b[0;36m<module>\u001b[1;34m()\u001b[0m\n\u001b[1;32m----> 1\u001b[1;33m \u001b[0mplot_images\u001b[0m\u001b[1;33m(\u001b[0m\u001b[0mimages\u001b[0m\u001b[1;33m=\u001b[0m\u001b[0mimages\u001b[0m\u001b[1;33m)\u001b[0m\u001b[1;33m\u001b[0m\u001b[0m\n\u001b[0m",
      "\u001b[1;31mNameError\u001b[0m: name 'plot_images' is not defined"
     ]
    }
   ],
   "source": [
    "plot_images(images=images)"
   ]
  },
  {
   "cell_type": "code",
   "execution_count": 36,
   "metadata": {},
   "outputs": [
    {
     "data": {
      "image/png": "[encoded data removed]",
      "text/plain": [
       "<matplotlib.figure.Figure at 0x2286a8964e0>"
      ]
     },
     "metadata": {},
     "output_type": "display_data"
    }
   ],
   "source": [
    "imgs=data.train.images[0:100]\n",
    "montage_img=np.zeros([100,28,28])\n",
    "for i in range(len(imgs)) : \n",
    "        montage_img[i]=imgs[i].reshape(28,28) \n",
    "plt.imshow(montage2d(montage_img), cmap='gray')\n",
    "plt.title('Sample of input data')\n",
    "plt.axis('off')\n",
    "plt.show()"
   ]
  },
  {
   "cell_type": "code",
   "execution_count": 40,
   "metadata": {},
   "outputs": [],
   "source": [
    "images=data.train.images\n",
    "images=np.reshape(images,[images.shape[0],28,28])\n",
    "mean_img = np.mean(images, axis=0)\n",
    "std_img = np.std(images, axis=0)"
   ]
  },
  {
   "cell_type": "code",
   "execution_count": 38,
   "metadata": {},
   "outputs": [
    {
     "data": {
      "image/png": "[encoded data removed]",
      "text/plain": [
       "<matplotlib.figure.Figure at 0x2286a8a9710>"
      ]
     },
     "metadata": {},
     "output_type": "display_data"
    }
   ],
   "source": [
    "plt.imshow(mean_img)\n",
    "plt.title('Mean image of the data')\n",
    "plt.colorbar()\n",
    "plt.axis('off')\n",
    "plt.show()"
   ]
  },
  {
   "cell_type": "code",
   "execution_count": 41,
   "metadata": {},
   "outputs": [
    {
     "data": {
      "image/png": "[encoded data removed]",
      "text/plain": [
       "<matplotlib.figure.Figure at 0x2286a902908>"
      ]
     },
     "metadata": {},
     "output_type": "display_data"
    }
   ],
   "source": [
    "plt.imshow(std_img)\n",
    "plt.colorbar()\n",
    "plt.title('Standard deviation of the data')\n",
    "plt.axis('off')\n",
    "plt.show()"
   ]
  },
  {
   "cell_type": "code",
   "execution_count": 42,
   "metadata": {},
   "outputs": [],
   "source": [
    "#input - shape 'None' states that, the value can be anything, i.e we can feed in any number of images\n",
    "#input image\n",
    "x=tf.placeholder(tf.float32,shape=[None,784]) \n",
    "#input class\n",
    "y_=tf.placeholder(tf.float32,shape=[None, 10])"
   ]
  },
  {
   "cell_type": "code",
   "execution_count": 43,
   "metadata": {},
   "outputs": [],
   "source": [
    "#Input Layer\n",
    "\n",
    "#reshaping input for convolutional operation in tensorflow\n",
    "# '-1' states that there is no fixed batch dimension, 28x28(=784) is reshaped from 784 pixels and '1' for a single\n",
    "#channel, i.e a gray scale image\n",
    "x_input=tf.reshape(x,[-1,28,28,1], name='input')\n",
    "#first convolutional layer with 32 output filters, filter size 5x5, stride of 2,same padding, and RELU activation.\n",
    "#please note, I am not adding bias, but one could add bias.Optionally you can add max pooling layer as well \n",
    "conv_layer1=tflearn.layers.conv.conv_2d(x_input, nb_filter=32, filter_size=5, strides=[1,1,1,1],\n",
    "                                        padding='same', activation='relu', regularizer=\"L2\", name='conv_layer_1')\n",
    "\n",
    "#2x2 max pooling layer\n",
    "out_layer1=tflearn.layers.conv.max_pool_2d(conv_layer1, 2)\n",
    "\n",
    "\n",
    "#second convolutional layer \n",
    "conv_layer2=tflearn.layers.conv.conv_2d(out_layer1, nb_filter=32, filter_size=5, strides=[1,1,1,1],\n",
    "                                        padding='same', activation='relu',  regularizer=\"L2\", name='conv_layer_2')\n",
    "out_layer2=tflearn.layers.conv.max_pool_2d(conv_layer2, 2)\n",
    "#fully connected layer\n",
    "fcl= tflearn.layers.core.fully_connected(out_layer2, 1024, activation='relu')\n",
    "fcl_dropout = tflearn.layers.core.dropout(fcl, 0.8)\n",
    "y_predicted = tflearn.layers.core.fully_connected(fcl_dropout, 10, activation='softmax', name='output')"
   ]
  },
  {
   "cell_type": "code",
   "execution_count": 44,
   "metadata": {},
   "outputs": [
    {
     "name": "stdout",
     "output_type": "stream",
     "text": [
      "Shape of input : [None, 28, 28, 1]\n",
      "Shape of first convolutional layer : [None, 14, 14, 32]\n",
      "Shape of second convolutional layer : [None, 7, 7, 32]\n",
      "Shape of fully connected layer : [None, 1024]\n",
      "Shape of output layer : [None, 10]\n"
     ]
    }
   ],
   "source": [
    "\n",
    "print (\"Shape of input : {}\".format(x_input.get_shape().as_list()))\n",
    "print (\"Shape of first convolutional layer : {}\".format(out_layer1.get_shape().as_list()))\n",
    "print (\"Shape of second convolutional layer : {}\".format(out_layer2.get_shape().as_list()))\n",
    "print (\"Shape of fully connected layer : {}\".format(fcl.get_shape().as_list()))\n",
    "print (\"Shape of output layer : {}\".format(y_predicted.get_shape().as_list()))"
   ]
  },
  {
   "cell_type": "code",
   "execution_count": 45,
   "metadata": {},
   "outputs": [],
   "source": [
    "#loss function\n",
    "cross_entropy = tf.reduce_mean(-tf.reduce_sum(y_ * tf.log(y_predicted), reduction_indices=[1]))\n",
    "#optimiser -\n",
    "train_step = tf.train.AdamOptimizer(1e-4).minimize(cross_entropy)\n",
    "#calculating accuracy of our model \n",
    "correct_prediction = tf.equal(tf.argmax(y_predicted,1), tf.argmax(y_,1))\n",
    "accuracy = tf.reduce_mean(tf.cast(correct_prediction, tf.float32))"
   ]
  },
  {
   "cell_type": "code",
   "execution_count": 48,
   "metadata": {},
   "outputs": [],
   "source": [
    "#session parameters\n",
    "sess = tf.InteractiveSession()\n",
    "#initialising variables\n",
    "init = tf.global_variables_initializer()\n",
    "sess.run(init)"
   ]
  },
  {
   "cell_type": "code",
   "execution_count": 49,
   "metadata": {},
   "outputs": [
    {
     "data": {
      "text/plain": [
       "['is_training/Initializer/Const',\n",
       " 'is_training',\n",
       " 'is_training/Assign',\n",
       " 'is_training/read',\n",
       " 'Assign/value',\n",
       " 'Assign',\n",
       " 'Assign_1/value',\n",
       " 'Assign_1',\n",
       " 'Placeholder',\n",
       " 'Placeholder_1',\n",
       " 'input/shape',\n",
       " 'input',\n",
       " 'conv_layer_1/W/Initializer/random_uniform/shape',\n",
       " 'conv_layer_1/W/Initializer/random_uniform/min',\n",
       " 'conv_layer_1/W/Initializer/random_uniform/max',\n",
       " 'conv_layer_1/W/Initializer/random_uniform/RandomUniform',\n",
       " 'conv_layer_1/W/Initializer/random_uniform/sub',\n",
       " 'conv_layer_1/W/Initializer/random_uniform/mul',\n",
       " 'conv_layer_1/W/Initializer/random_uniform',\n",
       " 'conv_layer_1/W',\n",
       " 'conv_layer_1/W/Assign',\n",
       " 'conv_layer_1/W/read',\n",
       " 'conv_layer_1/W/Regularizer/L2Loss',\n",
       " 'conv_layer_1/W/Regularizer/L2-Loss/y',\n",
       " 'conv_layer_1/W/Regularizer/L2-Loss',\n",
       " 'conv_layer_1/b/Initializer/Const',\n",
       " 'conv_layer_1/b',\n",
       " 'conv_layer_1/b/Assign',\n",
       " 'conv_layer_1/b/read',\n",
       " 'conv_layer_1/Conv2D',\n",
       " 'conv_layer_1/BiasAdd',\n",
       " 'conv_layer_1/Relu',\n",
       " 'MaxPool2D/MaxPool',\n",
       " 'conv_layer_2/W/Initializer/random_uniform/shape',\n",
       " 'conv_layer_2/W/Initializer/random_uniform/min',\n",
       " 'conv_layer_2/W/Initializer/random_uniform/max',\n",
       " 'conv_layer_2/W/Initializer/random_uniform/RandomUniform',\n",
       " 'conv_layer_2/W/Initializer/random_uniform/sub',\n",
       " 'conv_layer_2/W/Initializer/random_uniform/mul',\n",
       " 'conv_layer_2/W/Initializer/random_uniform',\n",
       " 'conv_layer_2/W',\n",
       " 'conv_layer_2/W/Assign',\n",
       " 'conv_layer_2/W/read',\n",
       " 'conv_layer_2/W/Regularizer/L2Loss',\n",
       " 'conv_layer_2/W/Regularizer/L2-Loss/y',\n",
       " 'conv_layer_2/W/Regularizer/L2-Loss',\n",
       " 'conv_layer_2/b/Initializer/Const',\n",
       " 'conv_layer_2/b',\n",
       " 'conv_layer_2/b/Assign',\n",
       " 'conv_layer_2/b/read',\n",
       " 'conv_layer_2/Conv2D',\n",
       " 'conv_layer_2/BiasAdd',\n",
       " 'conv_layer_2/Relu',\n",
       " 'MaxPool2D_1/MaxPool',\n",
       " 'FullyConnected/W/Initializer/truncated_normal/shape',\n",
       " 'FullyConnected/W/Initializer/truncated_normal/mean',\n",
       " 'FullyConnected/W/Initializer/truncated_normal/stddev',\n",
       " 'FullyConnected/W/Initializer/truncated_normal/TruncatedNormal',\n",
       " 'FullyConnected/W/Initializer/truncated_normal/mul',\n",
       " 'FullyConnected/W/Initializer/truncated_normal',\n",
       " 'FullyConnected/W',\n",
       " 'FullyConnected/W/Assign',\n",
       " 'FullyConnected/W/read',\n",
       " 'FullyConnected/b/Initializer/Const',\n",
       " 'FullyConnected/b',\n",
       " 'FullyConnected/b/Assign',\n",
       " 'FullyConnected/b/read',\n",
       " 'FullyConnected/Reshape/shape',\n",
       " 'FullyConnected/Reshape',\n",
       " 'FullyConnected/MatMul',\n",
       " 'FullyConnected/BiasAdd',\n",
       " 'FullyConnected/Relu',\n",
       " 'Dropout/cond/Switch',\n",
       " 'Dropout/cond/switch_t',\n",
       " 'Dropout/cond/switch_f',\n",
       " 'Dropout/cond/pred_id',\n",
       " 'Dropout/cond/dropout/keep_prob',\n",
       " 'Dropout/cond/dropout/Shape/Switch',\n",
       " 'Dropout/cond/dropout/Shape',\n",
       " 'Dropout/cond/dropout/random_uniform/min',\n",
       " 'Dropout/cond/dropout/random_uniform/max',\n",
       " 'Dropout/cond/dropout/random_uniform/RandomUniform',\n",
       " 'Dropout/cond/dropout/random_uniform/sub',\n",
       " 'Dropout/cond/dropout/random_uniform/mul',\n",
       " 'Dropout/cond/dropout/random_uniform',\n",
       " 'Dropout/cond/dropout/add',\n",
       " 'Dropout/cond/dropout/Floor',\n",
       " 'Dropout/cond/dropout/div',\n",
       " 'Dropout/cond/dropout/mul',\n",
       " 'Dropout/cond/Switch_1',\n",
       " 'Dropout/cond/Merge',\n",
       " 'output/W/Initializer/truncated_normal/shape',\n",
       " 'output/W/Initializer/truncated_normal/mean',\n",
       " 'output/W/Initializer/truncated_normal/stddev',\n",
       " 'output/W/Initializer/truncated_normal/TruncatedNormal',\n",
       " 'output/W/Initializer/truncated_normal/mul',\n",
       " 'output/W/Initializer/truncated_normal',\n",
       " 'output/W',\n",
       " 'output/W/Assign',\n",
       " 'output/W/read',\n",
       " 'output/b/Initializer/Const',\n",
       " 'output/b',\n",
       " 'output/b/Assign',\n",
       " 'output/b/read',\n",
       " 'output/MatMul',\n",
       " 'output/BiasAdd',\n",
       " 'output/Softmax',\n",
       " 'Log',\n",
       " 'mul',\n",
       " 'Sum/reduction_indices',\n",
       " 'Sum',\n",
       " 'Neg',\n",
       " 'Const',\n",
       " 'Mean',\n",
       " 'gradients/Shape',\n",
       " 'gradients/Const',\n",
       " 'gradients/Fill',\n",
       " 'gradients/Mean_grad/Reshape/shape',\n",
       " 'gradients/Mean_grad/Reshape',\n",
       " 'gradients/Mean_grad/Shape',\n",
       " 'gradients/Mean_grad/Tile',\n",
       " 'gradients/Mean_grad/Shape_1',\n",
       " 'gradients/Mean_grad/Shape_2',\n",
       " 'gradients/Mean_grad/Const',\n",
       " 'gradients/Mean_grad/Prod',\n",
       " 'gradients/Mean_grad/Const_1',\n",
       " 'gradients/Mean_grad/Prod_1',\n",
       " 'gradients/Mean_grad/Maximum/y',\n",
       " 'gradients/Mean_grad/Maximum',\n",
       " 'gradients/Mean_grad/floordiv',\n",
       " 'gradients/Mean_grad/Cast',\n",
       " 'gradients/Mean_grad/truediv',\n",
       " 'gradients/Neg_grad/Neg',\n",
       " 'gradients/Sum_grad/Shape',\n",
       " 'gradients/Sum_grad/Size',\n",
       " 'gradients/Sum_grad/add',\n",
       " 'gradients/Sum_grad/mod',\n",
       " 'gradients/Sum_grad/Shape_1',\n",
       " 'gradients/Sum_grad/range/start',\n",
       " 'gradients/Sum_grad/range/delta',\n",
       " 'gradients/Sum_grad/range',\n",
       " 'gradients/Sum_grad/Fill/value',\n",
       " 'gradients/Sum_grad/Fill',\n",
       " 'gradients/Sum_grad/DynamicStitch',\n",
       " 'gradients/Sum_grad/Maximum/y',\n",
       " 'gradients/Sum_grad/Maximum',\n",
       " 'gradients/Sum_grad/floordiv',\n",
       " 'gradients/Sum_grad/Reshape',\n",
       " 'gradients/Sum_grad/Tile',\n",
       " 'gradients/mul_grad/Shape',\n",
       " 'gradients/mul_grad/Shape_1',\n",
       " 'gradients/mul_grad/BroadcastGradientArgs',\n",
       " 'gradients/mul_grad/mul',\n",
       " 'gradients/mul_grad/Sum',\n",
       " 'gradients/mul_grad/Reshape',\n",
       " 'gradients/mul_grad/mul_1',\n",
       " 'gradients/mul_grad/Sum_1',\n",
       " 'gradients/mul_grad/Reshape_1',\n",
       " 'gradients/mul_grad/tuple/group_deps',\n",
       " 'gradients/mul_grad/tuple/control_dependency',\n",
       " 'gradients/mul_grad/tuple/control_dependency_1',\n",
       " 'gradients/Log_grad/Reciprocal',\n",
       " 'gradients/Log_grad/mul',\n",
       " 'gradients/output/Softmax_grad/mul',\n",
       " 'gradients/output/Softmax_grad/Sum/reduction_indices',\n",
       " 'gradients/output/Softmax_grad/Sum',\n",
       " 'gradients/output/Softmax_grad/Reshape/shape',\n",
       " 'gradients/output/Softmax_grad/Reshape',\n",
       " 'gradients/output/Softmax_grad/sub',\n",
       " 'gradients/output/Softmax_grad/mul_1',\n",
       " 'gradients/output/BiasAdd_grad/BiasAddGrad',\n",
       " 'gradients/output/BiasAdd_grad/tuple/group_deps',\n",
       " 'gradients/output/BiasAdd_grad/tuple/control_dependency',\n",
       " 'gradients/output/BiasAdd_grad/tuple/control_dependency_1',\n",
       " 'gradients/output/MatMul_grad/MatMul',\n",
       " 'gradients/output/MatMul_grad/MatMul_1',\n",
       " 'gradients/output/MatMul_grad/tuple/group_deps',\n",
       " 'gradients/output/MatMul_grad/tuple/control_dependency',\n",
       " 'gradients/output/MatMul_grad/tuple/control_dependency_1',\n",
       " 'gradients/Dropout/cond/Merge_grad/cond_grad',\n",
       " 'gradients/Dropout/cond/Merge_grad/tuple/group_deps',\n",
       " 'gradients/Dropout/cond/Merge_grad/tuple/control_dependency',\n",
       " 'gradients/Dropout/cond/Merge_grad/tuple/control_dependency_1',\n",
       " 'gradients/Switch',\n",
       " 'gradients/Shape_1',\n",
       " 'gradients/zeros/Const',\n",
       " 'gradients/zeros',\n",
       " 'gradients/Dropout/cond/Switch_1_grad/cond_grad',\n",
       " 'gradients/Dropout/cond/dropout/mul_grad/Shape',\n",
       " 'gradients/Dropout/cond/dropout/mul_grad/Shape_1',\n",
       " 'gradients/Dropout/cond/dropout/mul_grad/BroadcastGradientArgs',\n",
       " 'gradients/Dropout/cond/dropout/mul_grad/mul',\n",
       " 'gradients/Dropout/cond/dropout/mul_grad/Sum',\n",
       " 'gradients/Dropout/cond/dropout/mul_grad/Reshape',\n",
       " 'gradients/Dropout/cond/dropout/mul_grad/mul_1',\n",
       " 'gradients/Dropout/cond/dropout/mul_grad/Sum_1',\n",
       " 'gradients/Dropout/cond/dropout/mul_grad/Reshape_1',\n",
       " 'gradients/Dropout/cond/dropout/mul_grad/tuple/group_deps',\n",
       " 'gradients/Dropout/cond/dropout/mul_grad/tuple/control_dependency',\n",
       " 'gradients/Dropout/cond/dropout/mul_grad/tuple/control_dependency_1',\n",
       " 'gradients/Dropout/cond/dropout/div_grad/Shape',\n",
       " 'gradients/Dropout/cond/dropout/div_grad/Shape_1',\n",
       " 'gradients/Dropout/cond/dropout/div_grad/BroadcastGradientArgs',\n",
       " 'gradients/Dropout/cond/dropout/div_grad/RealDiv',\n",
       " 'gradients/Dropout/cond/dropout/div_grad/Sum',\n",
       " 'gradients/Dropout/cond/dropout/div_grad/Reshape',\n",
       " 'gradients/Dropout/cond/dropout/div_grad/Neg',\n",
       " 'gradients/Dropout/cond/dropout/div_grad/RealDiv_1',\n",
       " 'gradients/Dropout/cond/dropout/div_grad/RealDiv_2',\n",
       " 'gradients/Dropout/cond/dropout/div_grad/mul',\n",
       " 'gradients/Dropout/cond/dropout/div_grad/Sum_1',\n",
       " 'gradients/Dropout/cond/dropout/div_grad/Reshape_1',\n",
       " 'gradients/Dropout/cond/dropout/div_grad/tuple/group_deps',\n",
       " 'gradients/Dropout/cond/dropout/div_grad/tuple/control_dependency',\n",
       " 'gradients/Dropout/cond/dropout/div_grad/tuple/control_dependency_1',\n",
       " 'gradients/Switch_1',\n",
       " 'gradients/Shape_2',\n",
       " 'gradients/zeros_1/Const',\n",
       " 'gradients/zeros_1',\n",
       " 'gradients/Dropout/cond/dropout/Shape/Switch_grad/cond_grad',\n",
       " 'gradients/AddN',\n",
       " 'gradients/FullyConnected/Relu_grad/ReluGrad',\n",
       " 'gradients/FullyConnected/BiasAdd_grad/BiasAddGrad',\n",
       " 'gradients/FullyConnected/BiasAdd_grad/tuple/group_deps',\n",
       " 'gradients/FullyConnected/BiasAdd_grad/tuple/control_dependency',\n",
       " 'gradients/FullyConnected/BiasAdd_grad/tuple/control_dependency_1',\n",
       " 'gradients/FullyConnected/MatMul_grad/MatMul',\n",
       " 'gradients/FullyConnected/MatMul_grad/MatMul_1',\n",
       " 'gradients/FullyConnected/MatMul_grad/tuple/group_deps',\n",
       " 'gradients/FullyConnected/MatMul_grad/tuple/control_dependency',\n",
       " 'gradients/FullyConnected/MatMul_grad/tuple/control_dependency_1',\n",
       " 'gradients/FullyConnected/Reshape_grad/Shape',\n",
       " 'gradients/FullyConnected/Reshape_grad/Reshape',\n",
       " 'gradients/MaxPool2D_1/MaxPool_grad/MaxPoolGrad',\n",
       " 'gradients/conv_layer_2/Relu_grad/ReluGrad',\n",
       " 'gradients/conv_layer_2/BiasAdd_grad/BiasAddGrad',\n",
       " 'gradients/conv_layer_2/BiasAdd_grad/tuple/group_deps',\n",
       " 'gradients/conv_layer_2/BiasAdd_grad/tuple/control_dependency',\n",
       " 'gradients/conv_layer_2/BiasAdd_grad/tuple/control_dependency_1',\n",
       " 'gradients/conv_layer_2/Conv2D_grad/Shape',\n",
       " 'gradients/conv_layer_2/Conv2D_grad/Conv2DBackpropInput',\n",
       " 'gradients/conv_layer_2/Conv2D_grad/Shape_1',\n",
       " 'gradients/conv_layer_2/Conv2D_grad/Conv2DBackpropFilter',\n",
       " 'gradients/conv_layer_2/Conv2D_grad/tuple/group_deps',\n",
       " 'gradients/conv_layer_2/Conv2D_grad/tuple/control_dependency',\n",
       " 'gradients/conv_layer_2/Conv2D_grad/tuple/control_dependency_1',\n",
       " 'gradients/MaxPool2D/MaxPool_grad/MaxPoolGrad',\n",
       " 'gradients/conv_layer_1/Relu_grad/ReluGrad',\n",
       " 'gradients/conv_layer_1/BiasAdd_grad/BiasAddGrad',\n",
       " 'gradients/conv_layer_1/BiasAdd_grad/tuple/group_deps',\n",
       " 'gradients/conv_layer_1/BiasAdd_grad/tuple/control_dependency',\n",
       " 'gradients/conv_layer_1/BiasAdd_grad/tuple/control_dependency_1',\n",
       " 'gradients/conv_layer_1/Conv2D_grad/Shape',\n",
       " 'gradients/conv_layer_1/Conv2D_grad/Conv2DBackpropInput',\n",
       " 'gradients/conv_layer_1/Conv2D_grad/Shape_1',\n",
       " 'gradients/conv_layer_1/Conv2D_grad/Conv2DBackpropFilter',\n",
       " 'gradients/conv_layer_1/Conv2D_grad/tuple/group_deps',\n",
       " 'gradients/conv_layer_1/Conv2D_grad/tuple/control_dependency',\n",
       " 'gradients/conv_layer_1/Conv2D_grad/tuple/control_dependency_1',\n",
       " 'beta1_power/initial_value',\n",
       " 'beta1_power',\n",
       " 'beta1_power/Assign',\n",
       " 'beta1_power/read',\n",
       " 'beta2_power/initial_value',\n",
       " 'beta2_power',\n",
       " 'beta2_power/Assign',\n",
       " 'beta2_power/read',\n",
       " 'conv_layer_1/W/Adam/Initializer/Const',\n",
       " 'conv_layer_1/W/Adam',\n",
       " 'conv_layer_1/W/Adam/Assign',\n",
       " 'conv_layer_1/W/Adam/read',\n",
       " 'conv_layer_1/W/Adam_1/Initializer/Const',\n",
       " 'conv_layer_1/W/Adam_1',\n",
       " 'conv_layer_1/W/Adam_1/Assign',\n",
       " 'conv_layer_1/W/Adam_1/read',\n",
       " 'conv_layer_1/b/Adam/Initializer/Const',\n",
       " 'conv_layer_1/b/Adam',\n",
       " 'conv_layer_1/b/Adam/Assign',\n",
       " 'conv_layer_1/b/Adam/read',\n",
       " 'conv_layer_1/b/Adam_1/Initializer/Const',\n",
       " 'conv_layer_1/b/Adam_1',\n",
       " 'conv_layer_1/b/Adam_1/Assign',\n",
       " 'conv_layer_1/b/Adam_1/read',\n",
       " 'conv_layer_2/W/Adam/Initializer/Const',\n",
       " 'conv_layer_2/W/Adam',\n",
       " 'conv_layer_2/W/Adam/Assign',\n",
       " 'conv_layer_2/W/Adam/read',\n",
       " 'conv_layer_2/W/Adam_1/Initializer/Const',\n",
       " 'conv_layer_2/W/Adam_1',\n",
       " 'conv_layer_2/W/Adam_1/Assign',\n",
       " 'conv_layer_2/W/Adam_1/read',\n",
       " 'conv_layer_2/b/Adam/Initializer/Const',\n",
       " 'conv_layer_2/b/Adam',\n",
       " 'conv_layer_2/b/Adam/Assign',\n",
       " 'conv_layer_2/b/Adam/read',\n",
       " 'conv_layer_2/b/Adam_1/Initializer/Const',\n",
       " 'conv_layer_2/b/Adam_1',\n",
       " 'conv_layer_2/b/Adam_1/Assign',\n",
       " 'conv_layer_2/b/Adam_1/read',\n",
       " 'FullyConnected/W/Adam/Initializer/Const',\n",
       " 'FullyConnected/W/Adam',\n",
       " 'FullyConnected/W/Adam/Assign',\n",
       " 'FullyConnected/W/Adam/read',\n",
       " 'FullyConnected/W/Adam_1/Initializer/Const',\n",
       " 'FullyConnected/W/Adam_1',\n",
       " 'FullyConnected/W/Adam_1/Assign',\n",
       " 'FullyConnected/W/Adam_1/read',\n",
       " 'FullyConnected/b/Adam/Initializer/Const',\n",
       " 'FullyConnected/b/Adam',\n",
       " 'FullyConnected/b/Adam/Assign',\n",
       " 'FullyConnected/b/Adam/read',\n",
       " 'FullyConnected/b/Adam_1/Initializer/Const',\n",
       " 'FullyConnected/b/Adam_1',\n",
       " 'FullyConnected/b/Adam_1/Assign',\n",
       " 'FullyConnected/b/Adam_1/read',\n",
       " 'output/W/Adam/Initializer/Const',\n",
       " 'output/W/Adam',\n",
       " 'output/W/Adam/Assign',\n",
       " 'output/W/Adam/read',\n",
       " 'output/W/Adam_1/Initializer/Const',\n",
       " 'output/W/Adam_1',\n",
       " 'output/W/Adam_1/Assign',\n",
       " 'output/W/Adam_1/read',\n",
       " 'output/b/Adam/Initializer/Const',\n",
       " 'output/b/Adam',\n",
       " 'output/b/Adam/Assign',\n",
       " 'output/b/Adam/read',\n",
       " 'output/b/Adam_1/Initializer/Const',\n",
       " 'output/b/Adam_1',\n",
       " 'output/b/Adam_1/Assign',\n",
       " 'output/b/Adam_1/read',\n",
       " 'Adam/learning_rate',\n",
       " 'Adam/beta1',\n",
       " 'Adam/beta2',\n",
       " 'Adam/epsilon',\n",
       " 'Adam/update_conv_layer_1/W/ApplyAdam',\n",
       " 'Adam/update_conv_layer_1/b/ApplyAdam',\n",
       " 'Adam/update_conv_layer_2/W/ApplyAdam',\n",
       " 'Adam/update_conv_layer_2/b/ApplyAdam',\n",
       " 'Adam/update_FullyConnected/W/ApplyAdam',\n",
       " 'Adam/update_FullyConnected/b/ApplyAdam',\n",
       " 'Adam/update_output/W/ApplyAdam',\n",
       " 'Adam/update_output/b/ApplyAdam',\n",
       " 'Adam/mul',\n",
       " 'Adam/Assign',\n",
       " 'Adam/mul_1',\n",
       " 'Adam/Assign_1',\n",
       " 'Adam',\n",
       " 'ArgMax/dimension',\n",
       " 'ArgMax',\n",
       " 'ArgMax_1/dimension',\n",
       " 'ArgMax_1',\n",
       " 'Equal',\n",
       " 'Cast',\n",
       " 'Const_1',\n",
       " 'Mean_1',\n",
       " 'init',\n",
       " 'init_1']"
      ]
     },
     "execution_count": 49,
     "metadata": {},
     "output_type": "execute_result"
    }
   ],
   "source": [
    "\n",
    "# grabbing the default graph\n",
    "g = tf.get_default_graph()\n",
    "\n",
    "# every operations in our graph\n",
    "[op.name for op in g.get_operations()]"
   ]
  },
  {
   "cell_type": "code",
   "execution_count": 50,
   "metadata": {},
   "outputs": [],
   "source": [
    "epoch=1000\n",
    "batch_size=50"
   ]
  },
  {
   "cell_type": "code",
   "execution_count": 52,
   "metadata": {},
   "outputs": [
    {
     "name": "stdout",
     "output_type": "stream",
     "text": [
      "Loss : 2.3312008380889893 , Accuracy on test set : 13.22 %\n",
      "Loss : 0.5298492312431335 , Accuracy on test set : 87.62 %\n",
      "Loss : 0.30338141322135925 , Accuracy on test set : 91.63 %\n",
      "Loss : 0.14987803995609283 , Accuracy on test set : 93.81 %\n",
      "Loss : 0.2038600891828537 , Accuracy on test set : 94.71 %\n",
      "Loss : 0.15671859681606293 , Accuracy on test set : 94.74 %\n",
      "Loss : 0.23577238619327545 , Accuracy on test set : 95.36 %\n",
      "Loss : 0.14958839118480682 , Accuracy on test set : 96.01 %\n",
      "Loss : 0.1337466835975647 , Accuracy on test set : 96.52 %\n",
      "Loss : 0.08558385074138641 , Accuracy on test set : 96.78 %\n"
     ]
    }
   ],
   "source": [
    "for i in range(epoch):\n",
    "    #batch wise training \n",
    "    x_batch, y_batch = data.train.next_batch(batch_size)\n",
    "    _,loss=sess.run([train_step, cross_entropy], feed_dict={x: x_batch,y_: y_batch})\n",
    "    #_, loss,acc=sess.run([train_step,cross_entropy,accuracy], feed_dict={x:input_image , y_: input_class})\n",
    "    \n",
    "    if ((i%100)==0):    \n",
    "        Accuracy=sess.run(accuracy,\n",
    "                           feed_dict={\n",
    "                        x: data.test.images,\n",
    "                        y_: data.test.labels\n",
    "                      })\n",
    "        Accuracy=round(Accuracy*100,2)\n",
    "        print (\"Loss : {} , Accuracy on test set : {} %\" .format(loss, Accuracy))\n",
    "    elif ((i%100)==0):\n",
    "        print (\"Loss : {}\" .format(loss))"
   ]
  },
  {
   "cell_type": "code",
   "execution_count": 53,
   "metadata": {},
   "outputs": [
    {
     "ename": "SyntaxError",
     "evalue": "invalid syntax (<ipython-input-53-c18c7ce1e30c>, line 8)",
     "output_type": "error",
     "traceback": [
      "\u001b[1;36m  File \u001b[1;32m\"<ipython-input-53-c18c7ce1e30c>\"\u001b[1;36m, line \u001b[1;32m8\u001b[0m\n\u001b[1;33m    print \"Accuracy in the validation dataset: {}%\".format(validation_accuracy)\u001b[0m\n\u001b[1;37m                                                  ^\u001b[0m\n\u001b[1;31mSyntaxError\u001b[0m\u001b[1;31m:\u001b[0m invalid syntax\n"
     ]
    }
   ],
   "source": [
    "\n",
    "validation_accuracy=round((sess.run(accuracy,\n",
    "                            feed_dict={\n",
    "                             x: data.validation.images,\n",
    "                             y_: data.validation.labels\n",
    "                              }))*100,2)\n",
    "\n",
    "print \"Accuracy in the validation dataset: {}%\".format(validation_accuracy)"
   ]
  },
  {
   "cell_type": "code",
   "execution_count": 54,
   "metadata": {},
   "outputs": [
    {
     "name": "stdout",
     "output_type": "stream",
     "text": [
      "Accuracy in the validation dataset: 96.92%\n"
     ]
    }
   ],
   "source": [
    "\n",
    "validation_accuracy=round((sess.run(accuracy,\n",
    "                            feed_dict={\n",
    "                             x: data.validation.images,\n",
    "                             y_: data.validation.labels\n",
    "                              }))*100,2)\n",
    "\n",
    "print (\"Accuracy in the validation dataset: {}%\".format(validation_accuracy))"
   ]
  },
  {
   "cell_type": "code",
   "execution_count": 55,
   "metadata": {},
   "outputs": [],
   "source": [
    "y_test=(sess.run(y_predicted,feed_dict={\n",
    "                             x: data.test.images\n",
    "                              }))"
   ]
  },
  {
   "cell_type": "code",
   "execution_count": 56,
   "metadata": {},
   "outputs": [
    {
     "data": {
      "image/png": "[encoded data removed]",
      "text/plain": [
       "<matplotlib.figure.Figure at 0x2286a854c18>"
      ]
     },
     "metadata": {},
     "output_type": "display_data"
    }
   ],
   "source": [
    "idx=np.argmax(y_test,1)==np.argmax(data.test.labels,1) \n",
    "cmp=np.where(idx==False) #indices of error outputs\n",
    "# plotting errors\n",
    "fig, axes = plt.subplots(5, 3, figsize=(15,15))\n",
    "fig.subplots_adjust(hspace=0.3, wspace=0.3)\n",
    "cls_true=np.argmax(data.test.labels,1)[cmp]\n",
    "cls_pred=np.argmax(y_test,1)[cmp]\n",
    "images=data.test.images[cmp]\n",
    "for i, ax in enumerate(axes.flat):\n",
    "        ax.imshow(images[i].reshape(28,28), cmap='binary')\n",
    "        xlabel = \"True: {0}, Pred: {1}\".format(cls_true[i], cls_pred[i])\n",
    "        ax.set_xlabel(xlabel)\n",
    "        ax.set_xticks([])\n",
    "        ax.set_yticks([])      \n",
    "plt.show()"
   ]
  },
  {
   "cell_type": "code",
   "execution_count": 65,
   "metadata": {},
   "outputs": [
    {
     "data": {
      "image/png": "[encoded data removed]",
      "text/plain": [
       "<PIL.JpegImagePlugin.JpegImageFile image mode=L size=256x256 at 0x2280A706A20>"
      ]
     },
     "execution_count": 65,
     "metadata": {},
     "output_type": "execute_result"
    }
   ],
   "source": [
    "im=Image.open(\"C:\\\\Users\\\\24shashankm\\\\Desktop\\\\7.jpg\")\n",
    "im"
   ]
  },
  {
   "cell_type": "code",
   "execution_count": 66,
   "metadata": {},
   "outputs": [],
   "source": [
    "im=im.resize((28, 28), Image.ANTIALIAS) #resize the image\n",
    "im = np.array(im) #convert to an array\n",
    "im2=im/np.max(im).astype(float) #normalise input\n",
    "test_image1=np.reshape(im2, [1,784]) # reshape it to our input placeholder shape"
   ]
  },
  {
   "cell_type": "code",
   "execution_count": 63,
   "metadata": {},
   "outputs": [
    {
     "ename": "SyntaxError",
     "evalue": "invalid syntax (<ipython-input-63-7cb23b4321cd>, line 6)",
     "output_type": "error",
     "traceback": [
      "\u001b[1;36m  File \u001b[1;32m\"<ipython-input-63-7cb23b4321cd>\"\u001b[1;36m, line \u001b[1;32m6\u001b[0m\n\u001b[1;33m    print \"Predicted class : {}\" .format(predicted_class)\u001b[0m\n\u001b[1;37m                               ^\u001b[0m\n\u001b[1;31mSyntaxError\u001b[0m\u001b[1;31m:\u001b[0m invalid syntax\n"
     ]
    }
   ],
   "source": [
    "pred=(sess.run(y_predicted,\n",
    "               feed_dict={\n",
    "                   x:test_image1\n",
    "               }))\n",
    "predicted_class=np.argmax(pred)\n",
    "print \"Predicted class : {}\" .format(predicted_class)"
   ]
  },
  {
   "cell_type": "code",
   "execution_count": 67,
   "metadata": {},
   "outputs": [
    {
     "name": "stdout",
     "output_type": "stream",
     "text": [
      "Predicted class : 2\n"
     ]
    }
   ],
   "source": [
    "pred=(sess.run(y_predicted,\n",
    "               feed_dict={\n",
    "                   x:test_image1\n",
    "               }))\n",
    "predicted_class=np.argmax(pred)\n",
    "print (\"Predicted class : {}\" .format(predicted_class))"
   ]
  },
  {
   "cell_type": "code",
   "execution_count": 68,
   "metadata": {},
   "outputs": [
    {
     "name": "stdout",
     "output_type": "stream",
     "text": [
      "Loss : 0.14766235649585724 , Accuracy on test set : 96.67 %\n",
      "Loss : 0.17282924056053162 , Accuracy on test set : 97.24 %\n",
      "Loss : 0.0890035554766655 , Accuracy on test set : 97.34 %\n",
      "Loss : 0.054307971149683 , Accuracy on test set : 97.61 %\n",
      "Loss : 0.12219534069299698 , Accuracy on test set : 97.86 %\n",
      "Loss : 0.190391406416893 , Accuracy on test set : 97.73 %\n",
      "Loss : 0.12105794250965118 , Accuracy on test set : 97.52 %\n",
      "Loss : 0.02521291933953762 , Accuracy on test set : 97.87 %\n",
      "Loss : 0.029881145805120468 , Accuracy on test set : 98.02 %\n",
      "Loss : 0.045121341943740845 , Accuracy on test set : 98.15 %\n"
     ]
    }
   ],
   "source": [
    "for i in range(epoch):\n",
    "    #batch wise training \n",
    "    x_batch, y_batch = data.train.next_batch(batch_size)\n",
    "    _,loss=sess.run([train_step, cross_entropy], feed_dict={x: x_batch,y_: y_batch})\n",
    "    #_, loss,acc=sess.run([train_step,cross_entropy,accuracy], feed_dict={x:input_image , y_: input_class})\n",
    "    \n",
    "    if ((i%100)==0):    \n",
    "        Accuracy=sess.run(accuracy,\n",
    "                           feed_dict={\n",
    "                        x: data.test.images,\n",
    "                        y_: data.test.labels\n",
    "                      })\n",
    "        Accuracy=round(Accuracy*100,2)\n",
    "        print (\"Loss : {} , Accuracy on test set : {} %\" .format(loss, Accuracy))\n",
    "    elif ((i%100)==0):\n",
    "        print (\"Loss : {}\" .format(loss))"
   ]
  },
  {
   "cell_type": "code",
   "execution_count": 69,
   "metadata": {},
   "outputs": [
    {
     "name": "stdout",
     "output_type": "stream",
     "text": [
      "Loss : 0.0997508242726326 , Accuracy on test set : 98.14 %\n",
      "Loss : 0.17586065828800201 , Accuracy on test set : 98.11 %\n",
      "Loss : 0.1683734655380249 , Accuracy on test set : 98.1 %\n",
      "Loss : 0.15917468070983887 , Accuracy on test set : 98.39 %\n",
      "Loss : 0.05676241219043732 , Accuracy on test set : 98.36 %\n",
      "Loss : 0.02221028320491314 , Accuracy on test set : 98.48 %\n",
      "Loss : 0.03367484733462334 , Accuracy on test set : 98.44 %\n",
      "Loss : 0.00501556321978569 , Accuracy on test set : 97.88 %\n",
      "Loss : 0.051964253187179565 , Accuracy on test set : 98.5 %\n",
      "Loss : 0.08869300782680511 , Accuracy on test set : 98.17 %\n"
     ]
    }
   ],
   "source": [
    "for i in range(epoch):\n",
    "    #batch wise training \n",
    "    x_batch, y_batch = data.train.next_batch(batch_size)\n",
    "    _,loss=sess.run([train_step, cross_entropy], feed_dict={x: x_batch,y_: y_batch})\n",
    "    #_, loss,acc=sess.run([train_step,cross_entropy,accuracy], feed_dict={x:input_image , y_: input_class})\n",
    "    \n",
    "    if ((i%100)==0):    \n",
    "        Accuracy=sess.run(accuracy,\n",
    "                           feed_dict={\n",
    "                        x: data.test.images,\n",
    "                        y_: data.test.labels\n",
    "                      })\n",
    "        Accuracy=round(Accuracy*100,2)\n",
    "        print (\"Loss : {} , Accuracy on test set : {} %\" .format(loss, Accuracy))\n",
    "    elif ((i%100)==0):\n",
    "        print (\"Loss : {}\" .format(loss))"
   ]
  },
  {
   "cell_type": "code",
   "execution_count": 70,
   "metadata": {},
   "outputs": [
    {
     "name": "stdout",
     "output_type": "stream",
     "text": [
      "Loss : 0.04424883797764778 , Accuracy on test set : 98.51 %\n",
      "Loss : 0.023495787754654884 , Accuracy on test set : 98.39 %\n",
      "Loss : 0.0103912940248847 , Accuracy on test set : 98.53 %\n",
      "Loss : 0.04291786625981331 , Accuracy on test set : 98.46 %\n",
      "Loss : 0.01572451926767826 , Accuracy on test set : 98.31 %\n",
      "Loss : 0.10289280116558075 , Accuracy on test set : 98.23 %\n",
      "Loss : 0.051807843148708344 , Accuracy on test set : 98.63 %\n",
      "Loss : 0.0236549973487854 , Accuracy on test set : 98.67 %\n",
      "Loss : 0.09993401169776917 , Accuracy on test set : 98.33 %\n",
      "Loss : 0.019881531596183777 , Accuracy on test set : 98.69 %\n"
     ]
    }
   ],
   "source": [
    "for i in range(epoch):\n",
    "    #batch wise training \n",
    "    x_batch, y_batch = data.train.next_batch(batch_size)\n",
    "    _,loss=sess.run([train_step, cross_entropy], feed_dict={x: x_batch,y_: y_batch})\n",
    "    #_, loss,acc=sess.run([train_step,cross_entropy,accuracy], feed_dict={x:input_image , y_: input_class})\n",
    "    \n",
    "    if ((i%100)==0):    \n",
    "        Accuracy=sess.run(accuracy,\n",
    "                           feed_dict={\n",
    "                        x: data.test.images,\n",
    "                        y_: data.test.labels\n",
    "                      })\n",
    "        Accuracy=round(Accuracy*100,2)\n",
    "        print (\"Loss : {} , Accuracy on test set : {} %\" .format(loss, Accuracy))\n",
    "    elif ((i%100)==0):\n",
    "        print (\"Loss : {}\" .format(loss))"
   ]
  },
  {
   "cell_type": "code",
   "execution_count": 71,
   "metadata": {},
   "outputs": [
    {
     "name": "stdout",
     "output_type": "stream",
     "text": [
      "Accuracy in the validation dataset: 98.44%\n"
     ]
    }
   ],
   "source": [
    "validation_accuracy=round((sess.run(accuracy,\n",
    "                            feed_dict={\n",
    "                             x: data.validation.images,\n",
    "                             y_: data.validation.labels\n",
    "                              }))*100,2)\n",
    "\n",
    "print (\"Accuracy in the validation dataset: {}%\".format(validation_accuracy))"
   ]
  },
  {
   "cell_type": "code",
   "execution_count": 72,
   "metadata": {},
   "outputs": [],
   "source": [
    "y_test=(sess.run(y_predicted,feed_dict={\n",
    "                             x: data.test.images\n",
    "                              }))"
   ]
  },
  {
   "cell_type": "code",
   "execution_count": 73,
   "metadata": {},
   "outputs": [
    {
     "data": {
      "image/png": "[encoded data removed]",
      "text/plain": [
       "<PIL.JpegImagePlugin.JpegImageFile image mode=L size=256x256 at 0x2280A722A20>"
      ]
     },
     "execution_count": 73,
     "metadata": {},
     "output_type": "execute_result"
    }
   ],
   "source": [
    "im=Image.open(\"C:\\\\Users\\\\24shashankm\\\\Desktop\\\\7.jpg\")\n",
    "im"
   ]
  },
  {
   "cell_type": "code",
   "execution_count": 74,
   "metadata": {},
   "outputs": [],
   "source": [
    "im=im.resize((28, 28), Image.ANTIALIAS) #resize the image\n",
    "im = np.array(im) #convert to an array\n",
    "im2=im/np.max(im).astype(float) #normalise input\n",
    "test_image1=np.reshape(im2, [1,784]) # reshape it to our input placeholder shape"
   ]
  },
  {
   "cell_type": "code",
   "execution_count": 75,
   "metadata": {},
   "outputs": [
    {
     "name": "stdout",
     "output_type": "stream",
     "text": [
      "Predicted class : 7\n"
     ]
    }
   ],
   "source": [
    "pred=(sess.run(y_predicted,\n",
    "               feed_dict={\n",
    "                   x:test_image1\n",
    "               }))\n",
    "predicted_class=np.argmax(pred)\n",
    "print (\"Predicted class : {}\" .format(predicted_class))"
   ]
  },
  {
   "cell_type": "code",
   "execution_count": null,
   "metadata": {},
   "outputs": [],
   "source": []
  }
 ],
 "metadata": {
  "kernelspec": {
   "display_name": "Python 3",
   "language": "python",
   "name": "python3"
  },
  "language_info": {
   "codemirror_mode": {
    "name": "ipython",
    "version": 3
   },
   "file_extension": ".py",
   "mimetype": "text/x-python",
   "name": "python",
   "nbconvert_exporter": "python",
   "pygments_lexer": "ipython3",
   "version": "3.6.1"
  }
 },
 "nbformat": 4,
 "nbformat_minor": 2
}
